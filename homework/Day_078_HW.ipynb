{
 "cells": [
  {
   "cell_type": "markdown",
   "metadata": {},
   "source": [
    "## Work\n",
    "1. 請嘗試將 preproc_x 替換成以每筆資料的 min/max 進行標準化至 -1 ~ 1 間，再進行訓練\n",
    "2. 請嘗試將 mlp 疊更深 (e.g 5~10 層)，進行訓練後觀察 learning curve 的走勢\n",
    "3. (optional) 請改用 GPU 進行訓練 (如果你有 GPU 的話)，比較使用 CPU 與 GPU 的訓練速度"
   ]
  },
  {
   "cell_type": "code",
   "execution_count": 1,
   "metadata": {},
   "outputs": [],
   "source": [
    "## \n",
    "\"\"\"\n",
    "Your code here (optional)\n",
    "確認硬體資源\n",
    "\"\"\"\n"
   ]
  },
  {
   "cell_type": "code",
   "execution_count": 1,
   "metadata": {},
   "outputs": [
    {
     "name": "stderr",
     "output_type": "stream",
     "text": [
      "Using TensorFlow backend.\n"
     ]
    }
   ],
   "source": [
    "import os\n",
    "import keras\n",
    "\n",
    "# 請嘗試設定 GPU：os.environ\n"
   ]
  },
  {
   "cell_type": "code",
   "execution_count": 2,
   "metadata": {},
   "outputs": [],
   "source": [
    "train, test = keras.datasets.cifar10.load_data()"
   ]
  },
  {
   "cell_type": "code",
   "execution_count": 4,
   "metadata": {},
   "outputs": [],
   "source": [
    "## 資料前處理\n",
    "\"\"\"\n",
    "Your code here\n",
    "\"\"\"\n",
    "def preproc_x(x, flatten = True):\n",
    "    x = x / 255\n",
    "    if flatten:\n",
    "        x = x.reshape((len(x), -1))\n",
    "    return x\n",
    "def preproc_y(y, num_classes=10):\n",
    "    if y.shape[-1] == 1:\n",
    "        y = keras.utils.to_categorical(y, num_classes)\n",
    "    return y    "
   ]
  },
  {
   "cell_type": "code",
   "execution_count": 5,
   "metadata": {},
   "outputs": [],
   "source": [
    "x_train, y_train = train\n",
    "x_test, y_test = test\n",
    "\n",
    "# Preproc the inputs\n",
    "x_train = preproc_x(x_train)\n",
    "x_test = preproc_x(x_test)\n",
    "\n",
    "# Preprc the outputs\n",
    "y_train = preproc_y(y_train)\n",
    "y_test = preproc_y(y_test)"
   ]
  },
  {
   "cell_type": "code",
   "execution_count": 6,
   "metadata": {},
   "outputs": [],
   "source": [
    "\"\"\"Code Here\n",
    "建立你的神經網路\n",
    "\"\"\"\n",
    "def build_mlp(input_shape, output_units=10, num_neurons=[512, 256, 128, 128, 128]):\n",
    "    input_layer = keras.layers.Input(input_shape)\n",
    "    \n",
    "    for i, n_units in enumerate(num_neurons):\n",
    "        if i == 0:\n",
    "            x = keras.layers.Dense(units=n_units, activation=\"relu\", name=\"hidden_layer\"+str(i+1))(input_layer)\n",
    "        else:\n",
    "            x = keras.layers.Dense(units=n_units, activation=\"relu\", name=\"hidden_layer\"+str(i+1))(x)\n",
    "    \n",
    "    out = keras.layers.Dense(units=output_units, activation=\"softmax\", name=\"output\")(x)\n",
    "    \n",
    "    model = keras.models.Model(inputs=[input_layer], outputs=[out])\n",
    "    return model"
   ]
  },
  {
   "cell_type": "code",
   "execution_count": 7,
   "metadata": {},
   "outputs": [],
   "source": [
    "## 超參數設定\n",
    "LEARNING_RATE = 0.001\n",
    "EPOCHS = 100\n",
    "BATCH_SIZE = 256"
   ]
  },
  {
   "cell_type": "code",
   "execution_count": 9,
   "metadata": {},
   "outputs": [
    {
     "name": "stderr",
     "output_type": "stream",
     "text": [
      "WARNING: Logging before flag parsing goes to stderr.\n",
      "W0717 19:17:03.589753  4024 deprecation_wrapper.py:119] From C:\\Users\\user1\\Anaconda3\\envs\\tensorflow\\lib\\site-packages\\keras\\backend\\tensorflow_backend.py:74: The name tf.get_default_graph is deprecated. Please use tf.compat.v1.get_default_graph instead.\n",
      "\n",
      "W0717 19:17:03.589753  4024 deprecation_wrapper.py:119] From C:\\Users\\user1\\Anaconda3\\envs\\tensorflow\\lib\\site-packages\\keras\\backend\\tensorflow_backend.py:517: The name tf.placeholder is deprecated. Please use tf.compat.v1.placeholder instead.\n",
      "\n",
      "W0717 19:17:03.595751  4024 deprecation_wrapper.py:119] From C:\\Users\\user1\\Anaconda3\\envs\\tensorflow\\lib\\site-packages\\keras\\backend\\tensorflow_backend.py:4138: The name tf.random_uniform is deprecated. Please use tf.random.uniform instead.\n",
      "\n",
      "W0717 19:17:03.679685  4024 deprecation_wrapper.py:119] From C:\\Users\\user1\\Anaconda3\\envs\\tensorflow\\lib\\site-packages\\keras\\optimizers.py:790: The name tf.train.Optimizer is deprecated. Please use tf.compat.v1.train.Optimizer instead.\n",
      "\n",
      "W0717 19:17:03.687681  4024 deprecation_wrapper.py:119] From C:\\Users\\user1\\Anaconda3\\envs\\tensorflow\\lib\\site-packages\\keras\\backend\\tensorflow_backend.py:3295: The name tf.log is deprecated. Please use tf.math.log instead.\n",
      "\n"
     ]
    }
   ],
   "source": [
    "model = build_mlp(input_shape=x_train.shape[1:])\n",
    "optimizer = keras.optimizers.Adam(lr=LEARNING_RATE)\n",
    "model.compile(loss=\"categorical_crossentropy\", metrics=[\"accuracy\"], optimizer=optimizer)"
   ]
  },
  {
   "cell_type": "code",
   "execution_count": 10,
   "metadata": {},
   "outputs": [
    {
     "name": "stderr",
     "output_type": "stream",
     "text": [
      "W0717 19:17:06.479948  4024 deprecation.py:323] From C:\\Users\\user1\\Anaconda3\\envs\\tensorflow\\lib\\site-packages\\tensorflow\\python\\ops\\math_grad.py:1250: add_dispatch_support.<locals>.wrapper (from tensorflow.python.ops.array_ops) is deprecated and will be removed in a future version.\n",
      "Instructions for updating:\n",
      "Use tf.where in 2.0, which has the same broadcast rule as np.where\n",
      "W0717 19:17:06.540913  4024 deprecation_wrapper.py:119] From C:\\Users\\user1\\Anaconda3\\envs\\tensorflow\\lib\\site-packages\\keras\\backend\\tensorflow_backend.py:986: The name tf.assign_add is deprecated. Please use tf.compat.v1.assign_add instead.\n",
      "\n"
     ]
    },
    {
     "name": "stdout",
     "output_type": "stream",
     "text": [
      "Train on 50000 samples, validate on 10000 samples\n",
      "Epoch 1/100\n",
      "50000/50000 [==============================] - 9s 172us/step - loss: 1.9118 - acc: 0.2980 - val_loss: 1.7284 - val_acc: 0.3745\n",
      "Epoch 2/100\n",
      "50000/50000 [==============================] - 8s 157us/step - loss: 1.7202 - acc: 0.3791 - val_loss: 1.6333 - val_acc: 0.4084\n",
      "Epoch 3/100\n",
      "50000/50000 [==============================] - 8s 157us/step - loss: 1.6345 - acc: 0.4138 - val_loss: 1.5810 - val_acc: 0.4320\n",
      "Epoch 4/100\n",
      "50000/50000 [==============================] - 8s 156us/step - loss: 1.5730 - acc: 0.4368 - val_loss: 1.5756 - val_acc: 0.4372\n",
      "Epoch 5/100\n",
      "50000/50000 [==============================] - 8s 161us/step - loss: 1.5075 - acc: 0.4605 - val_loss: 1.5029 - val_acc: 0.4631\n",
      "Epoch 6/100\n",
      "50000/50000 [==============================] - 8s 158us/step - loss: 1.4847 - acc: 0.4682 - val_loss: 1.4969 - val_acc: 0.4681\n",
      "Epoch 7/100\n",
      "50000/50000 [==============================] - 8s 157us/step - loss: 1.4474 - acc: 0.4795 - val_loss: 1.5025 - val_acc: 0.4564\n",
      "Epoch 8/100\n",
      "50000/50000 [==============================] - 8s 156us/step - loss: 1.4071 - acc: 0.4985 - val_loss: 1.4984 - val_acc: 0.4678\n",
      "Epoch 9/100\n",
      "50000/50000 [==============================] - 8s 155us/step - loss: 1.3991 - acc: 0.5008 - val_loss: 1.4512 - val_acc: 0.4810\n",
      "Epoch 10/100\n",
      "50000/50000 [==============================] - 8s 156us/step - loss: 1.3583 - acc: 0.5170 - val_loss: 1.4263 - val_acc: 0.4939\n",
      "Epoch 11/100\n",
      "50000/50000 [==============================] - 8s 156us/step - loss: 1.3377 - acc: 0.5190 - val_loss: 1.4189 - val_acc: 0.4953\n",
      "Epoch 12/100\n",
      "50000/50000 [==============================] - 8s 158us/step - loss: 1.3145 - acc: 0.5302 - val_loss: 1.4118 - val_acc: 0.5018\n",
      "Epoch 13/100\n",
      "50000/50000 [==============================] - 8s 156us/step - loss: 1.2890 - acc: 0.5394 - val_loss: 1.4155 - val_acc: 0.4998\n",
      "Epoch 14/100\n",
      "50000/50000 [==============================] - 8s 156us/step - loss: 1.2790 - acc: 0.5416 - val_loss: 1.4436 - val_acc: 0.4876\n",
      "Epoch 15/100\n",
      "50000/50000 [==============================] - 8s 157us/step - loss: 1.2474 - acc: 0.5537 - val_loss: 1.4009 - val_acc: 0.5042\n",
      "Epoch 16/100\n",
      "50000/50000 [==============================] - 8s 156us/step - loss: 1.2166 - acc: 0.5657 - val_loss: 1.3954 - val_acc: 0.5128\n",
      "Epoch 17/100\n",
      "50000/50000 [==============================] - 8s 157us/step - loss: 1.2030 - acc: 0.5684 - val_loss: 1.3815 - val_acc: 0.5130\n",
      "Epoch 18/100\n",
      "50000/50000 [==============================] - 8s 157us/step - loss: 1.1829 - acc: 0.5766 - val_loss: 1.4028 - val_acc: 0.5028\n",
      "Epoch 19/100\n",
      "50000/50000 [==============================] - 8s 156us/step - loss: 1.1620 - acc: 0.5831 - val_loss: 1.3719 - val_acc: 0.5218\n",
      "Epoch 20/100\n",
      "50000/50000 [==============================] - 8s 156us/step - loss: 1.1410 - acc: 0.5897 - val_loss: 1.3692 - val_acc: 0.5151\n",
      "Epoch 21/100\n",
      "50000/50000 [==============================] - 8s 156us/step - loss: 1.1159 - acc: 0.6010 - val_loss: 1.4380 - val_acc: 0.5058\n",
      "Epoch 22/100\n",
      "50000/50000 [==============================] - 8s 158us/step - loss: 1.0994 - acc: 0.6053 - val_loss: 1.4039 - val_acc: 0.5235\n",
      "Epoch 23/100\n",
      "50000/50000 [==============================] - 8s 159us/step - loss: 1.0780 - acc: 0.6113 - val_loss: 1.4196 - val_acc: 0.5093\n",
      "Epoch 24/100\n",
      "50000/50000 [==============================] - 8s 159us/step - loss: 1.0647 - acc: 0.6117 - val_loss: 1.4264 - val_acc: 0.5131\n",
      "Epoch 25/100\n",
      "50000/50000 [==============================] - 8s 157us/step - loss: 1.0425 - acc: 0.6228 - val_loss: 1.4476 - val_acc: 0.5064\n",
      "Epoch 26/100\n",
      "50000/50000 [==============================] - 8s 158us/step - loss: 1.0227 - acc: 0.6330 - val_loss: 1.4671 - val_acc: 0.5064\n",
      "Epoch 27/100\n",
      "50000/50000 [==============================] - 8s 158us/step - loss: 1.0075 - acc: 0.6376 - val_loss: 1.4232 - val_acc: 0.5243\n",
      "Epoch 28/100\n",
      "50000/50000 [==============================] - 8s 159us/step - loss: 0.9756 - acc: 0.6509 - val_loss: 1.4718 - val_acc: 0.5228\n",
      "Epoch 29/100\n",
      "50000/50000 [==============================] - 8s 157us/step - loss: 0.9568 - acc: 0.6560 - val_loss: 1.4654 - val_acc: 0.5181\n",
      "Epoch 30/100\n",
      "50000/50000 [==============================] - 8s 160us/step - loss: 0.9334 - acc: 0.6637 - val_loss: 1.4978 - val_acc: 0.5080\n",
      "Epoch 31/100\n",
      "50000/50000 [==============================] - 8s 158us/step - loss: 0.9362 - acc: 0.6641 - val_loss: 1.4665 - val_acc: 0.5238\n",
      "Epoch 32/100\n",
      "50000/50000 [==============================] - 8s 158us/step - loss: 0.9100 - acc: 0.6710 - val_loss: 1.5522 - val_acc: 0.4974\n",
      "Epoch 33/100\n",
      "50000/50000 [==============================] - 8s 159us/step - loss: 0.8989 - acc: 0.6762 - val_loss: 1.5397 - val_acc: 0.5117\n",
      "Epoch 34/100\n",
      "50000/50000 [==============================] - 8s 158us/step - loss: 0.8748 - acc: 0.6848 - val_loss: 1.5400 - val_acc: 0.5111\n",
      "Epoch 35/100\n",
      "50000/50000 [==============================] - 8s 158us/step - loss: 0.8581 - acc: 0.6900 - val_loss: 1.5618 - val_acc: 0.5139\n",
      "Epoch 36/100\n",
      "50000/50000 [==============================] - 8s 169us/step - loss: 0.8418 - acc: 0.6989 - val_loss: 1.5683 - val_acc: 0.5205\n",
      "Epoch 37/100\n",
      "50000/50000 [==============================] - 8s 167us/step - loss: 0.8118 - acc: 0.7088 - val_loss: 1.6350 - val_acc: 0.5035\n",
      "Epoch 38/100\n",
      "50000/50000 [==============================] - 9s 174us/step - loss: 0.8002 - acc: 0.7111 - val_loss: 1.5528 - val_acc: 0.5239\n",
      "Epoch 39/100\n",
      "50000/50000 [==============================] - 8s 165us/step - loss: 0.7932 - acc: 0.7141 - val_loss: 1.6222 - val_acc: 0.5139\n",
      "Epoch 40/100\n",
      "50000/50000 [==============================] - 8s 153us/step - loss: 0.7731 - acc: 0.7214 - val_loss: 1.7044 - val_acc: 0.5077\n",
      "Epoch 41/100\n",
      "50000/50000 [==============================] - 8s 153us/step - loss: 0.7664 - acc: 0.7221 - val_loss: 1.6619 - val_acc: 0.5123\n",
      "Epoch 42/100\n",
      "50000/50000 [==============================] - 8s 152us/step - loss: 0.7413 - acc: 0.7320 - val_loss: 1.7270 - val_acc: 0.5133\n",
      "Epoch 43/100\n",
      "50000/50000 [==============================] - 8s 154us/step - loss: 0.7158 - acc: 0.7413 - val_loss: 1.7013 - val_acc: 0.5074\n",
      "Epoch 44/100\n",
      "50000/50000 [==============================] - 8s 152us/step - loss: 0.7135 - acc: 0.7426 - val_loss: 1.7448 - val_acc: 0.5126\n",
      "Epoch 45/100\n",
      "50000/50000 [==============================] - 8s 153us/step - loss: 0.6972 - acc: 0.7480 - val_loss: 1.7763 - val_acc: 0.5096\n",
      "Epoch 46/100\n",
      "50000/50000 [==============================] - 8s 153us/step - loss: 0.6759 - acc: 0.7544 - val_loss: 1.8538 - val_acc: 0.5025\n",
      "Epoch 47/100\n",
      "50000/50000 [==============================] - 8s 153us/step - loss: 0.6757 - acc: 0.7531 - val_loss: 1.8054 - val_acc: 0.5105\n",
      "Epoch 48/100\n",
      "50000/50000 [==============================] - 8s 153us/step - loss: 0.6653 - acc: 0.7587 - val_loss: 1.7942 - val_acc: 0.4997\n",
      "Epoch 49/100\n",
      "50000/50000 [==============================] - 8s 153us/step - loss: 0.6497 - acc: 0.7645 - val_loss: 1.8378 - val_acc: 0.5045\n",
      "Epoch 50/100\n",
      "50000/50000 [==============================] - 8s 154us/step - loss: 0.6264 - acc: 0.7717 - val_loss: 1.8561 - val_acc: 0.5096\n",
      "Epoch 51/100\n",
      "50000/50000 [==============================] - 8s 153us/step - loss: 0.6081 - acc: 0.7796 - val_loss: 1.9636 - val_acc: 0.5138\n",
      "Epoch 52/100\n",
      "50000/50000 [==============================] - 8s 153us/step - loss: 0.5964 - acc: 0.7835 - val_loss: 1.9998 - val_acc: 0.5099\n",
      "Epoch 53/100\n",
      "50000/50000 [==============================] - 8s 154us/step - loss: 0.6062 - acc: 0.7800 - val_loss: 2.0192 - val_acc: 0.5025\n",
      "Epoch 54/100\n",
      "50000/50000 [==============================] - 8s 164us/step - loss: 0.5823 - acc: 0.7867 - val_loss: 2.0401 - val_acc: 0.5136\n",
      "Epoch 55/100\n",
      "50000/50000 [==============================] - 8s 158us/step - loss: 0.5713 - acc: 0.7921 - val_loss: 2.0390 - val_acc: 0.5078\n",
      "Epoch 56/100\n",
      "50000/50000 [==============================] - 8s 156us/step - loss: 0.5538 - acc: 0.8002 - val_loss: 2.0947 - val_acc: 0.5055\n",
      "Epoch 57/100\n",
      "50000/50000 [==============================] - 8s 154us/step - loss: 0.5586 - acc: 0.7989 - val_loss: 2.1083 - val_acc: 0.5012\n",
      "Epoch 58/100\n",
      "50000/50000 [==============================] - 11s 215us/step - loss: 0.5501 - acc: 0.8017 - val_loss: 2.1022 - val_acc: 0.5044\n",
      "Epoch 59/100\n"
     ]
    },
    {
     "name": "stdout",
     "output_type": "stream",
     "text": [
      "50000/50000 [==============================] - 8s 159us/step - loss: 0.5373 - acc: 0.8061 - val_loss: 2.0644 - val_acc: 0.5079\n",
      "Epoch 60/100\n",
      "50000/50000 [==============================] - 8s 170us/step - loss: 0.5360 - acc: 0.8063 - val_loss: 2.2386 - val_acc: 0.4987: 1s - loss: 0.\n",
      "Epoch 61/100\n",
      "50000/50000 [==============================] - 8s 165us/step - loss: 0.5338 - acc: 0.8064 - val_loss: 2.2366 - val_acc: 0.4997\n",
      "Epoch 62/100\n",
      "50000/50000 [==============================] - 8s 153us/step - loss: 0.5241 - acc: 0.8099 - val_loss: 2.2347 - val_acc: 0.4967\n",
      "Epoch 63/100\n",
      "50000/50000 [==============================] - 9s 174us/step - loss: 0.5074 - acc: 0.8171 - val_loss: 2.2105 - val_acc: 0.5084\n",
      "Epoch 64/100\n",
      "50000/50000 [==============================] - 8s 156us/step - loss: 0.4918 - acc: 0.8216 - val_loss: 2.2641 - val_acc: 0.4927\n",
      "Epoch 65/100\n",
      "50000/50000 [==============================] - 8s 163us/step - loss: 0.4858 - acc: 0.8233 - val_loss: 2.2230 - val_acc: 0.5050\n",
      "Epoch 66/100\n",
      "50000/50000 [==============================] - 8s 160us/step - loss: 0.4633 - acc: 0.8334 - val_loss: 2.3934 - val_acc: 0.5036\n",
      "Epoch 67/100\n",
      "50000/50000 [==============================] - 8s 160us/step - loss: 0.4743 - acc: 0.8273 - val_loss: 2.4841 - val_acc: 0.5002\n",
      "Epoch 68/100\n",
      "50000/50000 [==============================] - 8s 160us/step - loss: 0.4794 - acc: 0.8254 - val_loss: 2.3571 - val_acc: 0.5029\n",
      "Epoch 69/100\n",
      "50000/50000 [==============================] - 8s 160us/step - loss: 0.4491 - acc: 0.8359 - val_loss: 2.4115 - val_acc: 0.5031\n",
      "Epoch 70/100\n",
      "50000/50000 [==============================] - 8s 162us/step - loss: 0.4442 - acc: 0.8395 - val_loss: 2.3763 - val_acc: 0.5036\n",
      "Epoch 71/100\n",
      "50000/50000 [==============================] - 8s 162us/step - loss: 0.4350 - acc: 0.8431 - val_loss: 2.5693 - val_acc: 0.4929\n",
      "Epoch 72/100\n",
      "50000/50000 [==============================] - 8s 168us/step - loss: 0.4275 - acc: 0.8462 - val_loss: 2.4524 - val_acc: 0.4975\n",
      "Epoch 73/100\n",
      "50000/50000 [==============================] - 8s 166us/step - loss: 0.4537 - acc: 0.8359 - val_loss: 2.4427 - val_acc: 0.4963\n",
      "Epoch 74/100\n",
      "50000/50000 [==============================] - 8s 170us/step - loss: 0.4305 - acc: 0.8451 - val_loss: 2.5113 - val_acc: 0.4996\n",
      "Epoch 75/100\n",
      "50000/50000 [==============================] - 8s 170us/step - loss: 0.4264 - acc: 0.8452 - val_loss: 2.5343 - val_acc: 0.5014\n",
      "Epoch 76/100\n",
      "50000/50000 [==============================] - 8s 159us/step - loss: 0.3946 - acc: 0.8566 - val_loss: 2.7093 - val_acc: 0.5003\n",
      "Epoch 77/100\n",
      "50000/50000 [==============================] - 8s 160us/step - loss: 0.3857 - acc: 0.8609 - val_loss: 2.6719 - val_acc: 0.5043\n",
      "Epoch 78/100\n",
      "50000/50000 [==============================] - 8s 160us/step - loss: 0.4157 - acc: 0.8492 - val_loss: 2.7053 - val_acc: 0.4929\n",
      "Epoch 79/100\n",
      "50000/50000 [==============================] - 8s 160us/step - loss: 0.4014 - acc: 0.8538 - val_loss: 2.7336 - val_acc: 0.4944\n",
      "Epoch 80/100\n",
      "50000/50000 [==============================] - 8s 160us/step - loss: 0.4058 - acc: 0.8538 - val_loss: 2.6622 - val_acc: 0.5038\n",
      "Epoch 81/100\n",
      "50000/50000 [==============================] - 8s 160us/step - loss: 0.3780 - acc: 0.8620 - val_loss: 2.6555 - val_acc: 0.4964\n",
      "Epoch 82/100\n",
      "50000/50000 [==============================] - 8s 161us/step - loss: 0.3853 - acc: 0.8628 - val_loss: 2.7077 - val_acc: 0.4936\n",
      "Epoch 83/100\n",
      "50000/50000 [==============================] - 8s 160us/step - loss: 0.3789 - acc: 0.8629 - val_loss: 2.7847 - val_acc: 0.4986\n",
      "Epoch 84/100\n",
      "50000/50000 [==============================] - 8s 159us/step - loss: 0.3878 - acc: 0.8595 - val_loss: 2.7200 - val_acc: 0.5031\n",
      "Epoch 85/100\n",
      "50000/50000 [==============================] - 8s 159us/step - loss: 0.3723 - acc: 0.8636 - val_loss: 2.7660 - val_acc: 0.4954\n",
      "Epoch 86/100\n",
      "50000/50000 [==============================] - 8s 159us/step - loss: 0.3654 - acc: 0.8676 - val_loss: 2.8546 - val_acc: 0.4952\n",
      "Epoch 87/100\n",
      "50000/50000 [==============================] - 8s 162us/step - loss: 0.3701 - acc: 0.8664 - val_loss: 2.8588 - val_acc: 0.4971\n",
      "Epoch 88/100\n",
      "50000/50000 [==============================] - 8s 160us/step - loss: 0.3646 - acc: 0.8691 - val_loss: 2.8172 - val_acc: 0.4974\n",
      "Epoch 89/100\n",
      "50000/50000 [==============================] - 8s 161us/step - loss: 0.3622 - acc: 0.8681 - val_loss: 2.8728 - val_acc: 0.4964\n",
      "Epoch 90/100\n",
      "50000/50000 [==============================] - 8s 161us/step - loss: 0.3207 - acc: 0.8839 - val_loss: 3.0302 - val_acc: 0.4931\n",
      "Epoch 91/100\n",
      "50000/50000 [==============================] - 8s 161us/step - loss: 0.3636 - acc: 0.8692 - val_loss: 2.9545 - val_acc: 0.4942\n",
      "Epoch 92/100\n",
      "50000/50000 [==============================] - 8s 160us/step - loss: 0.3340 - acc: 0.8790 - val_loss: 2.9565 - val_acc: 0.4998\n",
      "Epoch 93/100\n",
      "50000/50000 [==============================] - 8s 160us/step - loss: 0.3199 - acc: 0.8843 - val_loss: 2.9860 - val_acc: 0.4936\n",
      "Epoch 94/100\n",
      "50000/50000 [==============================] - 8s 160us/step - loss: 0.3292 - acc: 0.8808 - val_loss: 2.9000 - val_acc: 0.4986\n",
      "Epoch 95/100\n",
      "50000/50000 [==============================] - 8s 159us/step - loss: 0.3135 - acc: 0.8870 - val_loss: 2.9983 - val_acc: 0.5020\n",
      "Epoch 96/100\n",
      "50000/50000 [==============================] - 8s 161us/step - loss: 0.3231 - acc: 0.8838 - val_loss: 3.0577 - val_acc: 0.4967\n",
      "Epoch 97/100\n",
      "50000/50000 [==============================] - 8s 165us/step - loss: 0.3293 - acc: 0.8823 - val_loss: 2.9967 - val_acc: 0.4909\n",
      "Epoch 98/100\n",
      "50000/50000 [==============================] - 8s 164us/step - loss: 0.3458 - acc: 0.8756 - val_loss: 3.0617 - val_acc: 0.4935\n",
      "Epoch 99/100\n",
      "50000/50000 [==============================] - 8s 167us/step - loss: 0.3211 - acc: 0.8831 - val_loss: 3.1506 - val_acc: 0.5024\n",
      "Epoch 100/100\n",
      "50000/50000 [==============================] - 8s 164us/step - loss: 0.2926 - acc: 0.8938 - val_loss: 3.4008 - val_acc: 0.4870\n"
     ]
    },
    {
     "data": {
      "text/plain": [
       "<keras.callbacks.History at 0x1c6f83495f8>"
      ]
     },
     "execution_count": 10,
     "metadata": {},
     "output_type": "execute_result"
    }
   ],
   "source": [
    "model.fit(x_train, y_train, \n",
    "          epochs=EPOCHS, \n",
    "          batch_size=BATCH_SIZE, \n",
    "          validation_data=(x_test, y_test), \n",
    "          shuffle=True)"
   ]
  },
  {
   "cell_type": "code",
   "execution_count": 12,
   "metadata": {},
   "outputs": [
    {
     "data": {
      "image/png": "[encoded data removed]",
      "text/plain": [
       "<Figure size 432x288 with 1 Axes>"
      ]
     },
     "metadata": {},
     "output_type": "display_data"
    },
    {
     "data": {
      "image/png": "[encoded data removed]",
      "text/plain": [
       "<Figure size 432x288 with 1 Axes>"
      ]
     },
     "metadata": {},
     "output_type": "display_data"
    }
   ],
   "source": [
    "import matplotlib.pyplot as plt\n",
    "\n",
    "\n",
    "train_loss = model.history.history[\"loss\"]\n",
    "valid_loss = model.history.history[\"val_loss\"]\n",
    "\n",
    "train_acc = model.history.history[\"acc\"]\n",
    "valid_acc = model.history.history[\"val_acc\"]\n",
    "\n",
    "plt.plot(range(len(train_loss)), train_loss, label=\"train loss\")\n",
    "plt.plot(range(len(valid_loss)), valid_loss, label=\"valid loss\")\n",
    "plt.legend()\n",
    "plt.title(\"Loss\")\n",
    "plt.show()\n",
    "\n",
    "plt.plot(range(len(train_acc)), train_acc, label=\"train accuracy\")\n",
    "plt.plot(range(len(valid_acc)), valid_acc, label=\"valid accuracy\")\n",
    "plt.legend()\n",
    "plt.title(\"Accuracy\")\n",
    "plt.show()"
   ]
  },
  {
   "cell_type": "code",
   "execution_count": null,
   "metadata": {},
   "outputs": [],
   "source": []
  }
 ],
 "metadata": {
  "kernelspec": {
   "display_name": "Python 3",
   "language": "python",
   "name": "python3"
  },
  "language_info": {
   "codemirror_mode": {
    "name": "ipython",
    "version": 3
   },
   "file_extension": ".py",
   "mimetype": "text/x-python",
   "name": "python",
   "nbconvert_exporter": "python",
   "pygments_lexer": "ipython3",
   "version": "3.5.5"
  }
 },
 "nbformat": 4,
 "nbformat_minor": 2
}
